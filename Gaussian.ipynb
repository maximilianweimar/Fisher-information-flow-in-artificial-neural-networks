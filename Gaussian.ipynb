{
 "cells": [
  {
   "cell_type": "code",
   "execution_count": 1,
   "metadata": {},
   "outputs": [
    {
     "name": "stderr",
     "output_type": "stream",
     "text": [
      "/home/maximilian/anaconda3/envs/ML/lib/python3.10/site-packages/torchvision/io/image.py:13: UserWarning: Failed to load image Python extension: 'libc10_cuda.so: cannot open shared object file: No such file or directory'If you don't plan on using image functionality from `torchvision.io`, you can ignore this warning. Otherwise, there might be something wrong with your environment. Did you have `libjpeg` or `libpng` installed before building `torchvision` from source?\n",
      "  warn(\n"
     ]
    }
   ],
   "source": [
    "import FI_estimation\n",
    "import torch\n",
    "from torch import nn\n",
    "from torch.nn import functional as F\n",
    "import torch.utils.data as Data\n",
    "from torch.utils.data import Dataset, DataLoader, TensorDataset\n",
    "from torch import optim\n",
    "import numpy as np\n",
    "from matplotlib import pyplot as plt\n",
    "import os\n",
    "from scipy import ndimage\n",
    "\n",
    "torch.device(\"cuda\" if torch.cuda.is_available() else \"cpu\")\n",
    "device = torch.device(\"cuda\" if torch.cuda.is_available() else \"cpu\")\n",
    "from torchvision.models.feature_extraction import get_graph_node_names\n",
    "from torchvision.models.feature_extraction import create_feature_extractor"
   ]
  },
  {
   "cell_type": "code",
   "execution_count": 2,
   "metadata": {
    "scrolled": true
   },
   "outputs": [
    {
     "name": "stdout",
     "output_type": "stream",
     "text": [
      "(31, 20000, 16, 16)\n",
      "x_tr shape:  (620000, 1, 16, 16)\n"
     ]
    }
   ],
   "source": [
    "# Gaussian\n",
    "def reshape(speckles):\n",
    "    reshaped = np.zeros(shape = (speckles.shape[0]*speckles.shape[1], 16,16))\n",
    "    for pos in range(speckles.shape[0]):\n",
    "        for i in range(speckles.shape[1]):\n",
    "            reshaped[i+pos*speckles.shape[1]] = speckles[pos, i, :,:]\n",
    "    return reshaped\n",
    "\n",
    "speckles = np.load('Data'+os.sep+'normal_data.npy').astype(type) ###########################\n",
    "\n",
    "#speckles = speckles[:,0:15000,:,:]#########\n",
    "################################\n",
    "print(speckles.shape)\n",
    "positions = speckles.shape[0]\n",
    "size = speckles.shape[1]\n",
    "N_sp = positions*size\n",
    "N_pix = 16\n",
    "\n",
    "pos = np.zeros(shape = N_sp)\n",
    "for i in range(N_sp):\n",
    "    pos[i] = float(i*speckles.shape[1])//(N_sp)\n",
    "pos = pos/(speckles.shape[1]-1)\n",
    "\n",
    "speckles = reshape(speckles)\n",
    "x_tr = np.zeros((N_sp,N_pix,N_pix))\n",
    "y_tr = np.zeros((N_sp))\n",
    "\n",
    "for k in range(N_sp): #training\n",
    "    tmps = speckles[k,:,:]\n",
    "    x_tr[k,:,:] = tmps\n",
    "    y_tr[k] = pos[k]\n",
    "x_tr = x_tr.reshape(N_sp, 1, N_pix,N_pix)\n",
    "print(\"x_tr shape: \",x_tr.shape)\n",
    "    \n",
    "n_samples, n_channels, dim_x, dim_y = x_tr.shape   ### maybe dim_y, dim_x ?\n",
    "def shuffle_split_data(X, y, ratio=0.5):\n",
    "    arr_rand = np.random.rand(X.shape[0])\n",
    "    split = arr_rand < np.percentile(arr_rand, ratio*100)\n",
    "\n",
    "    X_train = X[split]\n",
    "    y_train = y[split]\n",
    "    X_test =  X[~split]\n",
    "    y_test = y[~split]\n",
    "    return X_train, X_test, y_train, y_test\n",
    "\n",
    "X_train, X_val, Y_train, Y_val = shuffle_split_data(x_tr, y_tr, ratio = 0.8)\n",
    "\n",
    "type = np.float64\n",
    "X_train = X_train.astype(type)\n",
    "Y_train = Y_train.astype(type)\n",
    "X_val = X_val.astype(type)\n",
    "Y_val = Y_val.astype(type)\n",
    "\n",
    "type = np.float64\n",
    "def reshape(speckles):\n",
    "    reshaped = np.zeros(shape = (speckles.shape[0]*speckles.shape[1], speckles.shape[2]))\n",
    "    for pos in range(speckles.shape[0]):\n",
    "        for i in range(speckles.shape[1]):\n",
    "            reshaped[i+pos*speckles.shape[1]] = speckles[pos, i, :]\n",
    "    return reshaped\n",
    "\n",
    "x_tst = np.load(\"Data\"+os.sep+\"normal_data_test.npy\")\n",
    "delta = 0.03 # 0.03\n",
    "\n",
    "###### standardise\n",
    "a = x_tr.shape[0]\n",
    "std = np.std(x_tr, axis=0)\n",
    "mean = np.mean(x_tr, axis=0)\n",
    "\n",
    "for i in range(a): \n",
    "    x_tr[i] = (x_tr[i]-mean)/std\n",
    "for i in range(x_tst.shape[0]):\n",
    "    x_tst[i] = (x_tst[i]-mean[0])/std[0]"
   ]
  },
  {
   "cell_type": "code",
   "execution_count": 3,
   "metadata": {},
   "outputs": [],
   "source": [
    "x_tst = x_tst.astype(np.float64)\n",
    "x_minus = x_tst[0]\n",
    "x_middle = x_tst[1]\n",
    "x_plus = x_tst[2]"
   ]
  },
  {
   "cell_type": "code",
   "execution_count": 4,
   "metadata": {
    "scrolled": true
   },
   "outputs": [
    {
     "name": "stdout",
     "output_type": "stream",
     "text": [
      "multiply the output variance with 1.0\n"
     ]
    }
   ],
   "source": [
    "a = x_tr.shape[0]\n",
    "std = np.std(x_tr, axis=0)\n",
    "std[std==0] = 1\n",
    "mean = np.mean(x_tr, axis=0)\n",
    "\n",
    "for i in range(a): \n",
    "    x_tr[i] = (x_tr[i]-mean)/std\n",
    "for i in range(x_tst.shape[0]): \n",
    "    x_tst[i] = (x_tst[i]-mean[0])/std[0]\n",
    "###\n",
    "cf = 4 * (np.max(y_tr)/2)**2\n",
    "print(\"multiply the output variance with\", cf)\n",
    "y_tr = y_tr-np.min(y_tr)\n",
    "y_tr = 2 * ( y_tr / np.max(y_tr) - 0.5 )\n",
    "\n",
    "X_train, X_val, Y_train, Y_val = shuffle_split_data(x_tr, y_tr, ratio=0.8)\n",
    "x_tr = None\n",
    "y_tr = None\n",
    "\n",
    "X_train = X_train.astype(type)\n",
    "Y_train = Y_train.astype(type)\n",
    "X_val = X_val.astype(type)\n",
    "Y_val = Y_val.astype(type)"
   ]
  },
  {
   "cell_type": "code",
   "execution_count": 5,
   "metadata": {},
   "outputs": [
    {
     "name": "stderr",
     "output_type": "stream",
     "text": [
      "/tmp/ipykernel_10081/3455342845.py:2: UserWarning: The use of `x.T` on tensors of dimension other than 2 to reverse their shape is deprecated and it will throw an error in a future release. Consider `x.mT` to transpose batches of matricesor `x.permute(*torch.arange(x.ndim - 1, -1, -1))` to reverse the dimensions of a tensor. (Triggered internally at  /opt/conda/conda-bld/pytorch_1646755832681/work/aten/src/ATen/native/TensorShape.cpp:2318.)\n",
      "  train_set = TensorDataset(torch.tensor(X_train), torch.tensor(Y_train).T)\n"
     ]
    }
   ],
   "source": [
    "torch.set_default_tensor_type(torch.DoubleTensor)\n",
    "train_set = TensorDataset(torch.tensor(X_train), torch.tensor(Y_train).T)\n",
    "val_set = TensorDataset(torch.tensor(X_val), torch.tensor(Y_val).T)\n",
    "#\n",
    "bs = 128\n",
    "train_loader = Data.DataLoader(train_set, batch_size=bs, shuffle=True)\n",
    "validation_loader = Data.DataLoader(val_set, batch_size=bs, shuffle=True)"
   ]
  },
  {
   "cell_type": "code",
   "execution_count": 6,
   "metadata": {},
   "outputs": [],
   "source": [
    "class Model(nn.Module):\n",
    "    def __init__(self, n):\n",
    "        super(Model, self).__init__()\n",
    "        self.linear1 = nn.Linear(n[0], n[1])\n",
    "        self.linear2 = nn.Linear(n[1], n[2])\n",
    "        self.linear3 = nn.Linear(n[2], n[3])\n",
    "        self.linear4 = nn.Linear(n[3], n[4])\n",
    "        self.linear5 = nn.Linear(n[4], n[5])\n",
    "    def forward(self, x):\n",
    "        x = x.view(x.size(0), -1)\n",
    "        x = self.linear1(x)\n",
    "        x = F.relu(x)\n",
    "        x = self.linear2(x)    \n",
    "        x = F.relu(x)\n",
    "        x = self.linear3(x)\n",
    "        x = F.relu(x)\n",
    "        x = self.linear4(x)       \n",
    "        x = F.relu(x)\n",
    "        x = self.linear5(x)  \n",
    "        return x\n",
    "n0 = 256\n",
    "FI0 = 256.\n",
    "n = [n0,150,100,50,25,1]"
   ]
  },
  {
   "cell_type": "code",
   "execution_count": 7,
   "metadata": {
    "scrolled": true
   },
   "outputs": [
    {
     "name": "stdout",
     "output_type": "stream",
     "text": [
      "lfi:  tensor(0.0007)\n",
      "epoch=  0 , val=  0.19912009579990833 , train =  0.2798233507977318\n",
      "lfi:  tensor(122.6023)\n",
      "epoch=  1 , val=  0.14006610354415125 , train =  0.15574557590154064\n",
      "lfi:  tensor(174.7679)\n",
      "epoch=  2 , val=  0.08349819369815435 , train =  0.12097551222269076\n",
      "lfi:  tensor(199.8636)\n",
      "epoch=  3 , val=  0.009008469613086753 , train =  0.04120574193252253\n",
      "lfi:  tensor(220.8084)\n",
      "epoch=  4 , val=  0.004551648705365713 , train =  0.005056151442762501\n",
      "lfi:  tensor(226.3174)\n",
      "epoch=  5 , val=  0.004391736914662994 , train =  0.004491420982118907\n",
      "lfi:  tensor(230.6688)\n",
      "epoch=  6 , val=  0.004291403103357745 , train =  0.004363751879921823\n",
      "lfi:  tensor(234.8612)\n",
      "epoch=  7 , val=  0.004198836475321684 , train =  0.004267090457599408\n",
      "lfi:  tensor(238.5102)\n",
      "epoch=  8 , val=  0.004119292278411314 , train =  0.004179694504883332\n",
      "lfi:  tensor(241.6209)\n",
      "epoch=  9 , val=  0.004063025886819416 , train =  0.004114033822925123\n",
      "lfi:  tensor(244.0209)\n",
      "epoch=  10 , val=  0.004026814253475393 , train =  0.004068617009382743\n",
      "lfi:  tensor(245.7881)\n",
      "epoch=  11 , val=  0.003995160568947693 , train =  0.004035122287133949\n",
      "lfi:  tensor(247.1218)\n",
      "epoch=  12 , val=  0.0039750009272352445 , train =  0.004008912940773645\n",
      "lfi:  tensor(248.1524)\n",
      "epoch=  13 , val=  0.003963848686428746 , train =  0.003988765421668705\n",
      "lfi:  tensor(248.8642)\n",
      "epoch=  14 , val=  0.003948183612984913 , train =  0.00397365485257029\n",
      "lfi:  tensor(249.3905)\n",
      "epoch=  15 , val=  0.003937482742040252 , train =  0.00396150127566274\n",
      "lfi:  tensor(249.7497)\n",
      "epoch=  16 , val=  0.003924359289364591 , train =  0.003951592478620207\n",
      "lfi:  tensor(250.0289)\n",
      "epoch=  17 , val=  0.003919286424859265 , train =  0.003942765151265725\n",
      "lfi:  tensor(250.2489)\n",
      "epoch=  18 , val=  0.00391582872222806 , train =  0.003936038621227237\n",
      "lfi:  tensor(250.4582)\n",
      "epoch=  19 , val=  0.003908228488578992 , train =  0.0039306023666330105\n",
      "lfi:  tensor(250.7330)\n",
      "epoch=  20 , val=  0.0039017475984961143 , train =  0.003926541564423498\n",
      "lfi:  tensor(251.0802)\n",
      "epoch=  21 , val=  0.0039010364072366156 , train =  0.003922887399750243\n",
      "lfi:  tensor(251.4050)\n",
      "epoch=  22 , val=  0.003899195858085127 , train =  0.003920500070202344\n",
      "lfi:  tensor(251.7643)\n",
      "epoch=  23 , val=  0.0038951127193896837 , train =  0.0039186133110132625\n",
      "lfi:  tensor(252.1236)\n",
      "epoch=  24 , val=  0.0038991028567931167 , train =  0.003917144637141172\n",
      "lfi:  tensor(252.4216)\n",
      "epoch=  25 , val=  0.003899906886356978 , train =  0.003916116725831427\n",
      "lfi:  tensor(252.7416)\n",
      "epoch=  26 , val=  0.003898002100730578 , train =  0.0039152272650188205\n",
      "lfi:  tensor(253.0533)\n",
      "epoch=  27 , val=  0.003891513676183214 , train =  0.003914642679734929\n",
      "lfi:  tensor(253.3949)\n",
      "epoch=  28 , val=  0.003894228125327689 , train =  0.003913749093765051\n",
      "lfi:  tensor(253.7007)\n",
      "epoch=  29 , val=  0.003891273428928595 , train =  0.00391324522796312\n",
      "lfi:  tensor(253.9871)\n",
      "epoch=  30 , val=  0.003894753853120879 , train =  0.003912689610103808\n",
      "lfi:  tensor(254.2318)\n",
      "epoch=  31 , val=  0.0038955793377037297 , train =  0.003912066284264937\n",
      "lfi:  tensor(254.4738)\n",
      "epoch=  32 , val=  0.0038927700409476735 , train =  0.003912060153283728\n",
      "lfi:  tensor(254.7085)\n",
      "epoch=  33 , val=  0.0038933310091104393 , train =  0.0039119541882910195\n",
      "lfi:  tensor(254.9135)\n",
      "epoch=  34 , val=  0.003893239834711251 , train =  0.003911620080866441\n",
      "lfi:  tensor(255.1005)\n",
      "epoch=  35 , val=  0.0038947368589480067 , train =  0.0039115726150793706\n",
      "lfi:  tensor(255.2730)\n",
      "epoch=  36 , val=  0.003893208386598444 , train =  0.00391150352522438\n",
      "lfi:  tensor(255.4219)\n",
      "epoch=  37 , val=  0.0038925390773953163 , train =  0.003911204326071511\n",
      "lfi:  tensor(255.5701)\n",
      "epoch=  38 , val=  0.003890747888267368 , train =  0.003911292463223622\n",
      "lfi:  tensor(255.7007)\n",
      "epoch=  39 , val=  0.003894509480472688 , train =  0.003911130650109136\n"
     ]
    }
   ],
   "source": [
    "starting_epoch = 0\n",
    "criterion =  nn.MSELoss()\n",
    "n_epochs = 40\n",
    "lr = 1e-6\n",
    "training_loss = 0.\n",
    "validation_loss = 0.\n",
    "net = Model(n).to(device)\n",
    "all_losses = []\n",
    "all_losses_val = []\n",
    "all_losses.append(training_loss/len(train_loader))\n",
    "all_losses_val.append(validation_loss/len(validation_loader))\n",
    "torch.save(net,  'Models' +os.sep+ 'epoch' + str(0)+'Gaussian.pth')\n",
    "for epoch in range(starting_epoch, starting_epoch + n_epochs):\n",
    "    #\n",
    "    with torch.no_grad():\n",
    "        ypr_minus = net.to('cpu')(torch.tensor(x_minus))\n",
    "        ypr_middle = net.to('cpu')(torch.tensor(x_middle))\n",
    "        ypr_plus = net.to('cpu')(torch.tensor(x_plus))\n",
    "        lfi = ((torch.mean(ypr_plus)-torch.mean(ypr_minus))/(2*delta))**2/((torch.var(ypr_plus)+torch.var(ypr_minus))/2)\n",
    "        print(\"lfi: \", lfi)\n",
    "    #\n",
    "    optimizer = optim.Adam(net.parameters(), lr=lr, weight_decay=0.003)\n",
    "    net.train()\n",
    "    training_loss = 0.\n",
    "    validation_loss = 0.\n",
    "    batch_count = 0\n",
    "    for inputs, target in train_loader:\n",
    "        inputs = inputs.to(device)\n",
    "        target = target.to(device)\n",
    "        batch_count += 1\n",
    "        y_pred = net(inputs)\n",
    "        loss = criterion(y_pred,  torch.unsqueeze(target,dim=1)  )\n",
    "        optimizer.zero_grad()\n",
    "        loss.backward()\n",
    "        optimizer.step()\n",
    "        training_loss += loss.item()\n",
    "    net.eval()\n",
    "    with torch.no_grad():\n",
    "        for inputs, target in validation_loader:\n",
    "            inputs = inputs.to(device)\n",
    "            target = target.to(device)\n",
    "            y_pred = net(inputs)\n",
    "            loss_val = criterion(y_pred,  torch.unsqueeze(target,dim=1) )\n",
    "            validation_loss += loss_val.item()\n",
    "    print(\"epoch= \", epoch, \", val= \", validation_loss/len(validation_loader),\", train = \", training_loss/len(train_loader))\n",
    "    torch.save(net,   'Models' +os.sep+ 'epoch' + str(epoch+1)+'Gaussian.pth')\n",
    "    #\n",
    "    all_losses_val.append(validation_loss/len(validation_loader))\n",
    "    all_losses.append(training_loss/len(train_loader))"
   ]
  },
  {
   "cell_type": "markdown",
   "metadata": {},
   "source": [
    "For FI based early stopping, increase the size of the network and decrease the learning rate\n",
    "If y_tr is rescaled then the MSE must be rescaled accordingly in order to be comparable with 1/FI"
   ]
  },
  {
   "cell_type": "code",
   "execution_count": 33,
   "metadata": {},
   "outputs": [
    {
     "data": {
      "image/png": "[encoded data removed]",
      "text/plain": [
       "<Figure size 640x480 with 1 Axes>"
      ]
     },
     "metadata": {},
     "output_type": "display_data"
    }
   ],
   "source": [
    "start = 1\n",
    "plt.plot(all_losses[start:])\n",
    "plt.plot(all_losses_val[start:])\n",
    "plt.yscale('log')"
   ]
  },
  {
   "cell_type": "code",
   "execution_count": 34,
   "metadata": {},
   "outputs": [],
   "source": [
    "# np.savez('Plots'+os.sep+'losses_normal.npz',\n",
    "#          all_losses=all_losses,\n",
    "#         all_losses_val = all_losses_val)"
   ]
  },
  {
   "cell_type": "code",
   "execution_count": 7,
   "metadata": {
    "scrolled": true
   },
   "outputs": [
    {
     "name": "stdout",
     "output_type": "stream",
     "text": [
      "X.shape torch.Size([450000, 256])\n",
      "epoch:  0\n",
      "lfi out:  [0.00073462]\n",
      "calculating FI\n",
      "up:  0\n"
     ]
    },
    {
     "ename": "KeyboardInterrupt",
     "evalue": "",
     "output_type": "error",
     "traceback": [
      "\u001b[0;31m---------------------------------------------------------------------------\u001b[0m",
      "\u001b[0;31mKeyboardInterrupt\u001b[0m                         Traceback (most recent call last)",
      "Cell \u001b[0;32mIn[7], line 61\u001b[0m\n\u001b[1;32m     58\u001b[0m linear4 \u001b[38;5;241m=\u001b[39m (FI_estimation\u001b[38;5;241m.\u001b[39mReLU(linear4))\n\u001b[1;32m     59\u001b[0m layer_out \u001b[38;5;241m=\u001b[39m (layer_out)\n\u001b[0;32m---> 61\u001b[0m fi_1 \u001b[38;5;241m=\u001b[39m \u001b[43mFI_estimation\u001b[49m\u001b[38;5;241;43m.\u001b[39;49m\u001b[43mget_FI\u001b[49m\u001b[43m(\u001b[49m\u001b[43mlinear1\u001b[49m\u001b[43m,\u001b[49m\u001b[43m \u001b[49m\u001b[43mdelta\u001b[49m\u001b[43m,\u001b[49m\u001b[43m \u001b[49m\u001b[43mupperLimit\u001b[49m\u001b[43m,\u001b[49m\u001b[43m \u001b[49m\u001b[43mstep\u001b[49m\u001b[43m,\u001b[49m\u001b[43m \u001b[49m\u001b[43mkappa\u001b[49m\u001b[43m,\u001b[49m\u001b[43m \u001b[49m\u001b[43mconstant_threshold\u001b[49m\u001b[38;5;241;43m=\u001b[39;49m\u001b[43mgamma\u001b[49m\u001b[43m,\u001b[49m\u001b[43m \u001b[49m\n\u001b[1;32m     62\u001b[0m \u001b[43m                           \u001b[49m\u001b[43mnoise_factor\u001b[49m\u001b[38;5;241;43m=\u001b[39;49m\u001b[43mnoise\u001b[49m\u001b[43m,\u001b[49m\u001b[43m \u001b[49m\u001b[43mbiasedLFI\u001b[49m\u001b[38;5;241;43m=\u001b[39;49m\u001b[38;5;28;43;01mTrue\u001b[39;49;00m\u001b[43m)\u001b[49m\n\u001b[1;32m     63\u001b[0m fi_2 \u001b[38;5;241m=\u001b[39m FI_estimation\u001b[38;5;241m.\u001b[39mget_FI(linear2, delta, upperLimit, step, kappa, constant_threshold\u001b[38;5;241m=\u001b[39mgamma, noise_factor\u001b[38;5;241m=\u001b[39mnoise, biasedLFI\u001b[38;5;241m=\u001b[39m\u001b[38;5;28;01mTrue\u001b[39;00m)\n\u001b[1;32m     64\u001b[0m fi_3 \u001b[38;5;241m=\u001b[39m FI_estimation\u001b[38;5;241m.\u001b[39mget_FI(linear3, delta, upperLimit, step, kappa, constant_threshold\u001b[38;5;241m=\u001b[39mgamma, noise_factor\u001b[38;5;241m=\u001b[39mnoise, biasedLFI\u001b[38;5;241m=\u001b[39m\u001b[38;5;28;01mTrue\u001b[39;00m)\n",
      "File \u001b[0;32m~/FI_Flow/clean_code/FI_estimation.py:74\u001b[0m, in \u001b[0;36mget_FI\u001b[0;34m(data, delta, lim, step_size, fluctuation_threshold, constant_threshold, noise_factor, biasedLFI)\u001b[0m\n\u001b[1;32m     72\u001b[0m \u001b[38;5;28mprint\u001b[39m(\u001b[38;5;124m\"\u001b[39m\u001b[38;5;124mup: \u001b[39m\u001b[38;5;124m\"\u001b[39m, up)\n\u001b[1;32m     73\u001b[0m r_up \u001b[38;5;241m=\u001b[39m np\u001b[38;5;241m.\u001b[39mrandom\u001b[38;5;241m.\u001b[39mnormal(\u001b[38;5;241m0.\u001b[39m,\u001b[38;5;241m1.\u001b[39m, size\u001b[38;5;241m=\u001b[39m(dim\u001b[38;5;241m+\u001b[39mup, dim)) \u001b[38;5;66;03m# random projection\u001b[39;00m\n\u001b[0;32m---> 74\u001b[0m transformed_data \u001b[38;5;241m=\u001b[39m activation(\u001b[43mnp\u001b[49m\u001b[38;5;241;43m.\u001b[39;49m\u001b[43meinsum\u001b[49m\u001b[43m(\u001b[49m\u001b[38;5;124;43m'\u001b[39;49m\u001b[38;5;124;43mij, abj -> abi\u001b[39;49m\u001b[38;5;124;43m'\u001b[39;49m\u001b[43m,\u001b[49m\u001b[43m \u001b[49m\u001b[43mr_up\u001b[49m\u001b[43m,\u001b[49m\u001b[43m \u001b[49m\u001b[43mdata\u001b[49m\u001b[43m)\u001b[49m) \u001b[38;5;66;03m# non-linear activation\u001b[39;00m\n\u001b[1;32m     75\u001b[0m a \u001b[38;5;241m=\u001b[39m transformed_data\u001b[38;5;241m.\u001b[39mshape[\u001b[38;5;241m0\u001b[39m]\n\u001b[1;32m     76\u001b[0m b \u001b[38;5;241m=\u001b[39m transformed_data\u001b[38;5;241m.\u001b[39mshape[\u001b[38;5;241m1\u001b[39m]\n",
      "File \u001b[0;32m<__array_function__ internals>:200\u001b[0m, in \u001b[0;36meinsum\u001b[0;34m(*args, **kwargs)\u001b[0m\n",
      "File \u001b[0;32m~/anaconda3/envs/ML/lib/python3.10/site-packages/numpy/core/einsumfunc.py:1371\u001b[0m, in \u001b[0;36meinsum\u001b[0;34m(out, optimize, *operands, **kwargs)\u001b[0m\n\u001b[1;32m   1369\u001b[0m     \u001b[38;5;28;01mif\u001b[39;00m specified_out:\n\u001b[1;32m   1370\u001b[0m         kwargs[\u001b[38;5;124m'\u001b[39m\u001b[38;5;124mout\u001b[39m\u001b[38;5;124m'\u001b[39m] \u001b[38;5;241m=\u001b[39m out\n\u001b[0;32m-> 1371\u001b[0m     \u001b[38;5;28;01mreturn\u001b[39;00m \u001b[43mc_einsum\u001b[49m\u001b[43m(\u001b[49m\u001b[38;5;241;43m*\u001b[39;49m\u001b[43moperands\u001b[49m\u001b[43m,\u001b[49m\u001b[43m \u001b[49m\u001b[38;5;241;43m*\u001b[39;49m\u001b[38;5;241;43m*\u001b[39;49m\u001b[43mkwargs\u001b[49m\u001b[43m)\u001b[49m\n\u001b[1;32m   1373\u001b[0m \u001b[38;5;66;03m# Check the kwargs to avoid a more cryptic error later, without having to\u001b[39;00m\n\u001b[1;32m   1374\u001b[0m \u001b[38;5;66;03m# repeat default values here\u001b[39;00m\n\u001b[1;32m   1375\u001b[0m valid_einsum_kwargs \u001b[38;5;241m=\u001b[39m [\u001b[38;5;124m'\u001b[39m\u001b[38;5;124mdtype\u001b[39m\u001b[38;5;124m'\u001b[39m, \u001b[38;5;124m'\u001b[39m\u001b[38;5;124morder\u001b[39m\u001b[38;5;124m'\u001b[39m, \u001b[38;5;124m'\u001b[39m\u001b[38;5;124mcasting\u001b[39m\u001b[38;5;124m'\u001b[39m]\n",
      "\u001b[0;31mKeyboardInterrupt\u001b[0m: "
     ]
    }
   ],
   "source": [
    "### calculating the FI Flow for different runs:\n",
    "### parameters \n",
    "fi_in = 256\n",
    "kappa = 0.1 # ratio of slopes\n",
    "gamma = 0.05 # stop when the LFI doesn't improve in the first iterations \n",
    "noise = 0.01 # noise added\n",
    "step = 30 # 10 increase of dimensionality\n",
    "upperLimit = 500 # maximum increase \n",
    "n_epochs = 40\n",
    "X = x_tst\n",
    "X = X.reshape(X.shape[0]*X.shape[1], X.shape[2]*X.shape[3]) \n",
    "X = torch.tensor(X)\n",
    "print(\"X.shape\", X.shape)\n",
    "fi_array = []\n",
    "for epoch in range(n_epochs):\n",
    "    print(\"epoch: \", epoch)\n",
    "    net = Model(n)\n",
    "    net = torch.load('Models'+os.sep + 'epoch'+ str(epoch)+'Gaussian.pth', map_location=torch.device('cpu'))\n",
    "    net.eval()\n",
    "    ###\n",
    "    return_nodes = {\n",
    "        \"linear1\": \"linear1\",\n",
    "        \"linear2\": \"linear2\",\n",
    "        \"linear3\": \"linear3\",\n",
    "        \"linear4\": \"linear4\"}\n",
    "    model2 = create_feature_extractor(net, return_nodes=return_nodes)\n",
    "    intermediate_outputs = model2(X)\n",
    "\n",
    "    linear1 = intermediate_outputs['linear1']\n",
    "    linear2 = intermediate_outputs['linear2']\n",
    "    linear3 = intermediate_outputs['linear3']\n",
    "    linear4 = intermediate_outputs['linear4']\n",
    "    layer_out = net(X)\n",
    "    ##############\n",
    "    linear1 = linear1.reshape(3 , linear1.shape[0]//3, linear1.shape[1])\n",
    "    linear2 = linear2.reshape(3 , linear2.shape[0]//3, linear2.shape[1])\n",
    "    linear3 = linear3.reshape(3 , linear3.shape[0]//3, linear3.shape[1])\n",
    "    linear4 = linear4.reshape(3 , linear4.shape[0]//3, linear4.shape[1])\n",
    "    layer_out = layer_out.reshape(3 , layer_out.shape[0]//3, layer_out.shape[1])\n",
    "    ### converst to numpy arrays\n",
    "    linear1 = linear1.detach().numpy()\n",
    "    linear2 = linear2.detach().numpy()\n",
    "    linear3 = linear3.detach().numpy()\n",
    "    linear4 = linear4.detach().numpy()\n",
    "    layer_out = layer_out.detach().numpy()\n",
    "    ### it might not converge without noise!\n",
    "    fi_1_temp = FI_estimation.get_LFI(linear1, delta, 1e-9)\n",
    "    fi_2_temp = FI_estimation.get_LFI(linear2, delta, 1e-9)\n",
    "    fi_3_temp = FI_estimation.get_LFI(linear3, delta, 1e-9)\n",
    "    fi_4_temp = FI_estimation.get_LFI(linear4, delta, 1e-9)\n",
    "    fi_out_temp = FI_estimation.get_LFI(layer_out, delta, 1e-9)\n",
    "    if epoch == 0:\n",
    "        print(\"lfi out: \", fi_out_temp)\n",
    "\n",
    "    linear1 = (FI_estimation.ReLU(linear1))\n",
    "    linear2 = (FI_estimation.ReLU(linear2))\n",
    "    linear3 = (FI_estimation.ReLU(linear3))\n",
    "    linear4 = (FI_estimation.ReLU(linear4))\n",
    "    layer_out = (layer_out)\n",
    "\n",
    "    fi_1 = FI_estimation.get_FI(linear1, delta, upperLimit, step, kappa, constant_threshold=gamma, \n",
    "                               noise_factor=noise, biasedLFI=True)\n",
    "    fi_2 = FI_estimation.get_FI(linear2, delta, upperLimit, step, kappa, constant_threshold=gamma, noise_factor=noise, biasedLFI=True)\n",
    "    fi_3 = FI_estimation.get_FI(linear3, delta, upperLimit, step, kappa, constant_threshold=gamma, noise_factor=noise, biasedLFI=True)\n",
    "    fi_4 = FI_estimation.get_FI(linear4, delta, upperLimit, step, kappa, constant_threshold=gamma, noise_factor=noise, biasedLFI=True)\n",
    "    fi_out = FI_estimation.get_FI(layer_out, delta, upperLimit, step, kappa, constant_threshold=gamma, noise_factor=noise, biasedLFI=True)\n",
    "\n",
    "#     fi_1 = max(fi_1_temp, fi_1)\n",
    "#     fi_2 = max(fi_2_temp, fi_2)\n",
    "#     fi_3 = max(fi_3_temp, fi_3)\n",
    "#     fi_4 = max(fi_4_temp, fi_4)\n",
    "#     fi_out = max(fi_out_temp[0], fi_out)\n",
    "    if isinstance(fi_out, np.ndarray): fi_out = fi_out.item()\n",
    "    fi = np.array([fi_in,fi_1,fi_2,fi_3,fi_4,fi_out])\n",
    "    print(fi)\n",
    "    fi_array.append(fi)\n",
    "    print(\"#------------------------------------------------------#\")"
   ]
  },
  {
   "cell_type": "code",
   "execution_count": 18,
   "metadata": {},
   "outputs": [],
   "source": [
    "temp = np.array(fi_array)\n",
    "temp[:,0] = 0\n",
    "temp = temp*(0.1/0.03)**2\n",
    "temp[:,0] = 256."
   ]
  },
  {
   "cell_type": "code",
   "execution_count": 28,
   "metadata": {
    "scrolled": true
   },
   "outputs": [
    {
     "data": {
      "text/plain": [
       "[<matplotlib.lines.Line2D at 0x7fd04b1345b0>,\n",
       " <matplotlib.lines.Line2D at 0x7fd04b136f50>,\n",
       " <matplotlib.lines.Line2D at 0x7fd04a410220>,\n",
       " <matplotlib.lines.Line2D at 0x7fd04a410160>,\n",
       " <matplotlib.lines.Line2D at 0x7fd04b134340>,\n",
       " <matplotlib.lines.Line2D at 0x7fd04b134a00>,\n",
       " <matplotlib.lines.Line2D at 0x7fd04b135090>,\n",
       " <matplotlib.lines.Line2D at 0x7fd04b134700>,\n",
       " <matplotlib.lines.Line2D at 0x7fd04b10b0d0>,\n",
       " <matplotlib.lines.Line2D at 0x7fd04b10b880>,\n",
       " <matplotlib.lines.Line2D at 0x7fd04b135a20>,\n",
       " <matplotlib.lines.Line2D at 0x7fd04b10ad70>,\n",
       " <matplotlib.lines.Line2D at 0x7fd04a68cee0>,\n",
       " <matplotlib.lines.Line2D at 0x7fd04a68dc30>,\n",
       " <matplotlib.lines.Line2D at 0x7fd04a68dba0>,\n",
       " <matplotlib.lines.Line2D at 0x7fd04a68c3d0>,\n",
       " <matplotlib.lines.Line2D at 0x7fd04a68d360>,\n",
       " <matplotlib.lines.Line2D at 0x7fd04a569570>,\n",
       " <matplotlib.lines.Line2D at 0x7fd04a56b940>,\n",
       " <matplotlib.lines.Line2D at 0x7fd04a569330>,\n",
       " <matplotlib.lines.Line2D at 0x7fd04a5697e0>,\n",
       " <matplotlib.lines.Line2D at 0x7fd04a569ff0>,\n",
       " <matplotlib.lines.Line2D at 0x7fd04a56ae60>,\n",
       " <matplotlib.lines.Line2D at 0x7fd04a5694e0>,\n",
       " <matplotlib.lines.Line2D at 0x7fd04a6304f0>,\n",
       " <matplotlib.lines.Line2D at 0x7fd04a630dc0>,\n",
       " <matplotlib.lines.Line2D at 0x7fd04a6307f0>,\n",
       " <matplotlib.lines.Line2D at 0x7fd04a631480>,\n",
       " <matplotlib.lines.Line2D at 0x7fd04a6314e0>,\n",
       " <matplotlib.lines.Line2D at 0x7fd04a631390>,\n",
       " <matplotlib.lines.Line2D at 0x7fd04a630190>,\n",
       " <matplotlib.lines.Line2D at 0x7fd04a6302b0>,\n",
       " <matplotlib.lines.Line2D at 0x7fd04a6301f0>,\n",
       " <matplotlib.lines.Line2D at 0x7fd04a4d83a0>,\n",
       " <matplotlib.lines.Line2D at 0x7fd04a6a19f0>,\n",
       " <matplotlib.lines.Line2D at 0x7fd04a34d630>,\n",
       " <matplotlib.lines.Line2D at 0x7fd04a34e710>,\n",
       " <matplotlib.lines.Line2D at 0x7fd04a34da50>,\n",
       " <matplotlib.lines.Line2D at 0x7fd04a34ec80>,\n",
       " <matplotlib.lines.Line2D at 0x7fd04a34f3d0>]"
      ]
     },
     "execution_count": 28,
     "metadata": {},
     "output_type": "execute_result"
    },
    {
     "data": {
      "image/png": "[encoded data removed]",
      "text/plain": [
       "<Figure size 640x480 with 1 Axes>"
      ]
     },
     "metadata": {},
     "output_type": "display_data"
    }
   ],
   "source": [
    "plt.plot(np.array(fi_array).T)"
   ]
  },
  {
   "cell_type": "code",
   "execution_count": 32,
   "metadata": {},
   "outputs": [],
   "source": [
    "#np.save(\"Plots\" + os.sep + \"fi_flow_Normal.npy\", np.array(fi_array))"
   ]
  },
  {
   "cell_type": "markdown",
   "metadata": {},
   "source": [
    "### Trash"
   ]
  },
  {
   "cell_type": "code",
   "execution_count": 8,
   "metadata": {},
   "outputs": [
    {
     "data": {
      "text/plain": [
       "39.46786815760878"
      ]
     },
     "execution_count": 8,
     "metadata": {},
     "output_type": "execute_result"
    }
   ],
   "source": [
    "def get_LFI(data, delta, cutoff):\n",
    "    mu = np.mean(data, axis=1)\n",
    "    dmu = (mu[2]-mu[0])/(2*delta)\n",
    "    cov = (np.cov(data[0].T)+np.cov(data[2].T))/2\n",
    "    if data.shape[2] > 1:\n",
    "        u, s, vh = np.linalg.svd(cov, full_matrices=True)\n",
    "        count = 0\n",
    "        s_inv = np.zeros(shape=s.shape[0])\n",
    "        for i in range(s.shape[0]):\n",
    "            if np.abs(s[i])<cutoff:\n",
    "                count += 1\n",
    "                s[i] = 0.\n",
    "            else:\n",
    "                s_inv[i] = 1/s[i]\n",
    "        if count > 0:\n",
    "            print(\"components ignored: \", count)\n",
    "        lfi = dmu.T@vh.T@np.diag(s_inv)@u.T@dmu  \n",
    "    elif data.shape[2] == 1:\n",
    "        lfi = dmu**2/cov\n",
    "    else:\n",
    "        print(\"wrong shape of data\")\n",
    "    T = data.shape[1]\n",
    "    N = data.shape[2]\n",
    "    return lfi - 2*N/(T*(2*delta)**2)\n",
    "get_LFI(linear2, delta, 1e-9)"
   ]
  },
  {
   "cell_type": "code",
   "execution_count": 13,
   "metadata": {
    "scrolled": true
   },
   "outputs": [
    {
     "name": "stdout",
     "output_type": "stream",
     "text": [
      "lfi =  36.746851667726006\n",
      "lfi =  39.69000282955167\n",
      "lfi =  40.45593075995376\n",
      "lfi =  40.45234452033396\n",
      "lfi =  40.720608995945085\n",
      "lfi =  41.08909016851445\n",
      "lfi =  41.25513038216833\n",
      "lfi =  41.67596467020517\n",
      "lfi =  41.82030052486734\n",
      "lfi =  41.49022617118201\n",
      "lfi =  41.668221407039404\n",
      "lfi =  41.81249955659291\n",
      "lfi =  42.16153643429745\n",
      "lfi =  42.53499432256317\n",
      "lfi =  42.38603565410583\n",
      "lfi =  42.797217518042906\n",
      "lfi =  42.704802683268355\n"
     ]
    }
   ],
   "source": [
    "#upperLimit = 1700\n",
    "#step = 100\n",
    "curve = FI_estimation.get_FI_curve(linear2, delta, upperLimit, step, kappa, constant_threshold=gamma, \n",
    "                               noise_factor=noise, biasedLFI=True)"
   ]
  },
  {
   "cell_type": "code",
   "execution_count": 19,
   "metadata": {},
   "outputs": [],
   "source": [
    "#curve[0] = curve[0].item()"
   ]
  },
  {
   "cell_type": "code",
   "execution_count": 14,
   "metadata": {},
   "outputs": [],
   "source": [
    "x = []\n",
    "for up in range(0,upperLimit,step):\n",
    "    x.append(up)\n",
    "x = np.array(x)\n",
    "curve = np.array(curve)"
   ]
  },
  {
   "cell_type": "code",
   "execution_count": 15,
   "metadata": {
    "scrolled": true
   },
   "outputs": [
    {
     "data": {
      "text/plain": [
       "array([   0,  100,  200,  300,  400,  500,  600,  700,  800,  900, 1000,\n",
       "       1100, 1200, 1300, 1400, 1500, 1600])"
      ]
     },
     "execution_count": 15,
     "metadata": {},
     "output_type": "execute_result"
    }
   ],
   "source": [
    "x"
   ]
  },
  {
   "cell_type": "code",
   "execution_count": 16,
   "metadata": {
    "scrolled": true
   },
   "outputs": [
    {
     "data": {
      "text/plain": [
       "[<matplotlib.lines.Line2D at 0x7f5ebc46a260>]"
      ]
     },
     "execution_count": 16,
     "metadata": {},
     "output_type": "execute_result"
    },
    {
     "data": {
      "image/png": "[encoded data removed]",
      "text/plain": [
       "<Figure size 640x480 with 1 Axes>"
      ]
     },
     "metadata": {},
     "output_type": "display_data"
    }
   ],
   "source": [
    "end = -1\n",
    "plt.plot(x,curve)"
   ]
  },
  {
   "cell_type": "code",
   "execution_count": 47,
   "metadata": {},
   "outputs": [],
   "source": [
    "\n",
    "np.savez('Plots'+os.sep+'FIConvergenceGaussian.npz',\n",
    "         curve=curve,\n",
    "        x=x)"
   ]
  }
 ],
 "metadata": {
  "kernelspec": {
   "display_name": "ML",
   "language": "python",
   "name": "ml"
  },
  "language_info": {
   "codemirror_mode": {
    "name": "ipython",
    "version": 3
   },
   "file_extension": ".py",
   "mimetype": "text/x-python",
   "name": "python",
   "nbconvert_exporter": "python",
   "pygments_lexer": "ipython3",
   "version": "3.10.9"
  }
 },
 "nbformat": 4,
 "nbformat_minor": 2
}
