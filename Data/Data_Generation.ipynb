{
 "cells": [
  {
   "cell_type": "code",
   "execution_count": 1,
   "metadata": {},
   "outputs": [],
   "source": [
    "import torch\n",
    "import numpy as np\n",
    "import matplotlib.pyplot as plt\n",
    "import os\n",
    "from scipy import ndimage\n",
    "import scipy.stats as st"
   ]
  },
  {
   "cell_type": "code",
   "execution_count": 2,
   "metadata": {
    "scrolled": true
   },
   "outputs": [],
   "source": [
    "N_pix = 16 # dimension of the images\n",
    "sig = 1. # standard deviation!!!\n",
    "start = -1\n",
    "end = 1\n",
    "N_pos = 31 # number of positions\n",
    "shift = (end-start)/(N_pos-1)\n",
    "N = 20000 # number of data points per position"
   ]
  },
  {
   "cell_type": "code",
   "execution_count": 3,
   "metadata": {},
   "outputs": [],
   "source": [
    "sample = np.zeros(shape=(N_pos, N, N_pix, N_pix))\n",
    "\n",
    "for count in range(N_pos):\n",
    "    position = start + count * shift\n",
    "    for ii in range(N_pix):\n",
    "        for jj in range(N_pix):\n",
    "            sample[count,:,   ii,jj] = np.random.normal(position, sig, size=N)\n",
    "np.save('normal_data.npy', sample)"
   ]
  },
  {
   "cell_type": "code",
   "execution_count": 4,
   "metadata": {},
   "outputs": [],
   "source": [
    "# generate testing sample\n",
    "############## parameters:\n",
    "shift = 0.03#0.03\n",
    "N_pos = 1 # number of positions\n",
    "N = 150000 # number of speckles per position"
   ]
  },
  {
   "cell_type": "code",
   "execution_count": 5,
   "metadata": {
    "scrolled": true
   },
   "outputs": [
    {
     "name": "stdout",
     "output_type": "stream",
     "text": [
      "0\n"
     ]
    }
   ],
   "source": [
    "sample = np.zeros(shape=(3*N_pos, N, N_pix, N_pix))\n",
    "for count in range(N_pos):\n",
    "    position = 0 # (count-1) * shift\n",
    "    print(position)\n",
    "    for ii in range(N_pix):\n",
    "        for jj in range(N_pix):            \n",
    "            sample[3*count,:,   ii,jj] = np.random.normal(position-shift, sig, size=N)\n",
    "            sample[3*count+1,:,   ii,jj] = np.random.normal(position, sig, size=N)\n",
    "            sample[3*count+2,:,   ii,jj] = np.random.normal(position+shift, sig, size=N)"
   ]
  },
  {
   "cell_type": "code",
   "execution_count": 6,
   "metadata": {},
   "outputs": [],
   "source": [
    "np.save('normal_data_test.npy', sample)"
   ]
  },
  {
   "cell_type": "markdown",
   "metadata": {},
   "source": [
    "### for early stopping"
   ]
  },
  {
   "cell_type": "code",
   "execution_count": 17,
   "metadata": {},
   "outputs": [],
   "source": [
    "N_pix = 16\n",
    "sig = 1.\n",
    "start = -1.5\n",
    "end = 1.5\n",
    "N_pos = 101 # number of positions\n",
    "shift = (end-start)/(N_pos-1)\n",
    "N = 7000 # number of speckles per position"
   ]
  },
  {
   "cell_type": "code",
   "execution_count": 18,
   "metadata": {},
   "outputs": [],
   "source": [
    "sample = np.zeros(shape=(N_pos, N, N_pix, N_pix))\n",
    "for count in range(N_pos):\n",
    "    position = start + count * shift\n",
    "    for ii in range(N_pix):\n",
    "        for jj in range(N_pix):\n",
    "            sample[count,:,   ii,jj] = np.random.normal(position, sig, size=N)"
   ]
  },
  {
   "cell_type": "code",
   "execution_count": 19,
   "metadata": {},
   "outputs": [],
   "source": [
    "np.save('normal_data_ES.npy', sample)"
   ]
  },
  {
   "cell_type": "markdown",
   "metadata": {},
   "source": [
    "### Lognormal data"
   ]
  },
  {
   "cell_type": "code",
   "execution_count": 1,
   "metadata": {},
   "outputs": [],
   "source": [
    "import torch\n",
    "import numpy as np\n",
    "import matplotlib.pyplot as plt\n",
    "import os\n",
    "from scipy import ndimage\n",
    "import scipy.stats as st"
   ]
  },
  {
   "cell_type": "code",
   "execution_count": 2,
   "metadata": {},
   "outputs": [],
   "source": [
    "np.random.seed(30)"
   ]
  },
  {
   "cell_type": "code",
   "execution_count": 3,
   "metadata": {
    "scrolled": true
   },
   "outputs": [],
   "source": [
    "dim = 10 # dimension\n",
    "sig = 1. # standard deviation\n",
    "start = -7\n",
    "end = 7\n",
    "N_pos = 21 # number of positions\n",
    "shift = (end-start)/(N_pos-1)\n",
    "N = 20000"
   ]
  },
  {
   "cell_type": "code",
   "execution_count": 4,
   "metadata": {},
   "outputs": [],
   "source": [
    "rotation = np.random.normal(0.,1.,size=(dim,dim))"
   ]
  },
  {
   "cell_type": "code",
   "execution_count": 5,
   "metadata": {},
   "outputs": [],
   "source": [
    "sample = np.zeros(shape=(N_pos, N, dim))\n",
    "positions = np.zeros(shape=(N_pos, N,1))\n",
    "for count in range(N_pos):\n",
    "    position = start + count * shift\n",
    "    positions[count] = position\n",
    "    for ii in range(dim):\n",
    "        sample[count,:,   ii] = np.random.normal(position, sig, size=N)\n",
    "sample = np.einsum('ij,abi->abj', rotation, sample)\n",
    "c = np.cov(sample[1].T)\n",
    "sample = sample / dim\n",
    "sample = np.exp(sample)\n",
    "np.save('ES_log_normal_train_X.npy', sample)\n",
    "np.save('ES_log_normal_train_Y.npy', positions)"
   ]
  },
  {
   "cell_type": "code",
   "execution_count": 5,
   "metadata": {},
   "outputs": [
    {
     "name": "stdout",
     "output_type": "stream",
     "text": [
      "0.0\n"
     ]
    }
   ],
   "source": [
    "# generate testing sample\n",
    "delta = 0.1\n",
    "N_pos = 1\n",
    "start = 0.\n",
    "end = 0.\n",
    "shift = 0.\n",
    "N = 150000 # number of speckles per position\n",
    "\n",
    "sample = np.zeros(shape=(3*N_pos, N, dim))\n",
    "for count in range(N_pos):\n",
    "    position = start + count * shift\n",
    "    print(position)\n",
    "    for ii in range(dim):\n",
    "        sample[3*count,:,ii] = np.random.normal(position-delta, sig, size=N)\n",
    "        sample[3*count+1,:,ii] = np.random.normal(position, sig, size=N)\n",
    "        sample[3*count+2,:,ii] = np.random.normal(position+delta, sig, size=N)\n",
    "sample = np.einsum('ij,abi->abj', rotation, sample)\n",
    "sample = sample / dim\n",
    "sample = np.exp(sample)      \n",
    "np.save('log_normal_test_X.npy', sample)"
   ]
  }
 ],
 "metadata": {
  "kernelspec": {
   "display_name": "ML",
   "language": "python",
   "name": "ml"
  },
  "language_info": {
   "codemirror_mode": {
    "name": "ipython",
    "version": 3
   },
   "file_extension": ".py",
   "mimetype": "text/x-python",
   "name": "python",
   "nbconvert_exporter": "python",
   "pygments_lexer": "ipython3",
   "version": "3.10.9"
  }
 },
 "nbformat": 4,
 "nbformat_minor": 5
}
