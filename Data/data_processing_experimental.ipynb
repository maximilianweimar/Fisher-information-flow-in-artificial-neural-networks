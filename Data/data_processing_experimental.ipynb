{
 "cells": [
  {
   "cell_type": "code",
   "execution_count": 1,
   "metadata": {},
   "outputs": [],
   "source": [
    "import numpy as np\n",
    "from matplotlib import pyplot as plt"
   ]
  },
  {
   "cell_type": "code",
   "execution_count": 2,
   "metadata": {},
   "outputs": [],
   "source": [
    "# ---------- cuts and crops\n",
    "data_choice='Data1'\n",
    "data_format=np.float64\n",
    "average=True\n",
    "results=np.load(data_choice+'.npz')\n",
    "data_center=results['data_center']\n",
    "data_edge=results['data_edge']\n",
    "position_center=results['position_center']\n",
    "position_edge=results['position_edge']"
   ]
  },
  {
   "cell_type": "code",
   "execution_count": 3,
   "metadata": {},
   "outputs": [
    {
     "data": {
      "text/plain": [
       "(28, 50000, 32, 64)"
      ]
     },
     "execution_count": 3,
     "metadata": {},
     "output_type": "execute_result"
    }
   ],
   "source": [
    "data_edge.shape"
   ]
  },
  {
   "cell_type": "code",
   "execution_count": 3,
   "metadata": {},
   "outputs": [],
   "source": [
    "# ---------- cuts and crops\n",
    "cut = 9 # not all positions are needed\n",
    "position_edge = position_edge[cut:-cut]\n",
    "data_edge = data_edge[cut:-cut, :]\n",
    "data_center =  data_center[:,:,7:-7,20:-20]\n",
    "data_edge = data_edge[:,:,7:-7,20:-20]\n",
    "data_center=data_center.astype(data_format)\n",
    "data_edge=data_edge.astype(data_format)\n",
    "delta = position_center[2]-position_center[0] # the step size"
   ]
  },
  {
   "cell_type": "code",
   "execution_count": 4,
   "metadata": {},
   "outputs": [
    {
     "data": {
      "image/png": "[encoded data removed]",
      "text/plain": [
       "<Figure size 600x200 with 2 Axes>"
      ]
     },
     "metadata": {},
     "output_type": "display_data"
    }
   ],
   "source": [
    "# ---------- visualize the data\n",
    "diff_image=np.mean(data_center[-1,:,:],axis=0)-np.mean(data_center[0,:,:],axis=0)\n",
    "diff_image=np.mean(data_center[-1,:,:],axis=0)-np.mean(data_center[0,:,:],axis=0)\n",
    "plt.figure(figsize=(6,2))\n",
    "plt.imshow(diff_image,cmap='RdBu_r')\n",
    "plt.clim(-np.max(np.abs(diff_image)),np.max(np.abs(diff_image)))\n",
    "plt.axis('off')\n",
    "plt.colorbar()\n",
    "plt.tight_layout()"
   ]
  },
  {
   "cell_type": "code",
   "execution_count": 5,
   "metadata": {},
   "outputs": [],
   "source": [
    "# ---------- combine measurements in the center and at the edges to get a complete data set\n",
    "N = data_edge.shape[1] # samples per position in the training dataset\n",
    "Npositions = position_edge.shape[0] + position_center.shape[0]\n",
    "# join data_edge with a randomly selected fraction of data_center\n",
    "idx = np.arange(data_center.shape[1])\n",
    "# torch.manual_seed(2)\n",
    "np.random.shuffle(idx) # random shuffle to make up for drifts of the setup\n",
    "data_center = data_center[:,idx,:,:]\n",
    "position_training = np.insert(position_edge, int(position_edge.shape[0]/2), position_center)\n",
    "speckles = np.insert(data_edge, int(position_edge.shape[0]/2), data_center[:,:data_edge.shape[1],:,:], axis=0)\n",
    "speckles_testing = data_center[:,data_edge.shape[1]:,:,:]\n",
    "position_testing = position_center\n",
    "speckles_testing = speckles_testing[:,:150000, :,:] # reduce the data set because not all of it is needed"
   ]
  },
  {
   "cell_type": "code",
   "execution_count": 6,
   "metadata": {
    "scrolled": true
   },
   "outputs": [
    {
     "name": "stdout",
     "output_type": "stream",
     "text": [
      "x_tr shape:  (650000, 1, 18, 24)\n",
      "x_tst shape:  (450000, 18, 24)\n"
     ]
    }
   ],
   "source": [
    "# ---------- save training and testing data\n",
    "x_tr = speckles.reshape(speckles.shape[0]*speckles.shape[1], 1, speckles.shape[2],speckles.shape[3])\n",
    "print(\"x_tr shape: \",x_tr.shape)\n",
    "# out\n",
    "y_tr = np.zeros(shape=(Npositions*N))\n",
    "for p in range(Npositions):\n",
    "    y_tr[p*N:(p+1)*N] = position_training[p]\n",
    "    x_tst = speckles_testing.reshape(speckles_testing.shape[0]*speckles_testing.shape[1], speckles_testing.shape[2],speckles_testing.shape[3])\n",
    "print(\"x_tst shape: \",x_tst.shape)\n",
    "#export\n",
    "np.save(\"x_tr.npy\", x_tr)\n",
    "np.save(\"y_tr.npy\", y_tr)\n",
    "np.save(\"x_tst.npy\", x_tst)"
   ]
  }
 ],
 "metadata": {
  "kernelspec": {
   "display_name": "ML",
   "language": "python",
   "name": "ml"
  },
  "language_info": {
   "codemirror_mode": {
    "name": "ipython",
    "version": 3
   },
   "file_extension": ".py",
   "mimetype": "text/x-python",
   "name": "python",
   "nbconvert_exporter": "python",
   "pygments_lexer": "ipython3",
   "version": "3.10.9"
  }
 },
 "nbformat": 4,
 "nbformat_minor": 5
}
